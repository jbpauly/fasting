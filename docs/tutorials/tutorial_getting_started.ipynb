{
 "cells": [
  {
   "cell_type": "markdown",
   "metadata": {},
   "source": [
    "# Fasting (Python Package)\n",
    "## _Make use of your fasting logs._\n",
    "\n",
    "This tutorial provides a brief overview of how to use the [**fasting**](https://github.com/DigitalBiomarkerDiscoveryPipeline/fasting) library. We'll use a sample data export from [**Zero**](https://www.zerofasting.com/) in the tutorial.\n",
    "\n",
    "This package is part of the [**Digital Biomarker Discovery Pipeline (DBDP)**](https://dbdp.org/). You can read more about the DBDP [here](https://medium.com/digital-biomarker-discovery/digital-biomarker-discovery-pipeline-fbfe75cdd9a4). If you track your fasts, there's a chance you also track biomarkers with wearables and other hardware in the modern health stack. The goal of this package is to enable you to utilize _**your**_ data for your own purpose, like cross analyzing fasting performance with other biomarkers. Check out an example [here](https://share.streamlit.io/jbpauly/glucose-sleep-analysis/main/src/app.py).\n",
    "\n",
    "\n",
    "### Fasting\n",
    "Fasting is a technique used to improve metabolic health, reduce inflammation, rebalance gut health, lose weight, increase longevity, improve mental clarity and focus. \n",
    "\n",
    "There's various forms of fasting, with **Intermittent Fasting (IF)** likely being the most common. You can read about **IF** and other types of fasting on the [Zero blog](https://www.zerofasting.com/which-type-of-fasting-is-right-for-you/)."
   ]
  },
  {
   "cell_type": "markdown",
   "metadata": {},
   "source": [
    "## Getting Started\n",
    "\n",
    "Let's start by importing the packages we'll need for this tutorial. "
   ]
  },
  {
   "cell_type": "code",
   "execution_count": 1,
   "metadata": {},
   "outputs": [],
   "source": [
    "from fasting import quantify\n",
    "import pandas as pd\n",
    "import matplotlib.pyplot as plt\n",
    "from matplotlib.ticker import FormatStrFormatter"
   ]
  },
  {
   "cell_type": "markdown",
   "metadata": {},
   "source": [
    "## Data\n",
    "**Zero** provides a data export feature in their app.\n",
    "This [dataset](https://github.com/jbpauly/fasting/blob/main/docs/tutorials/zero_export.csv) is a sample users can expect to see from their own export.\n",
    "\n",
    "### Exporting Data from Zero\n",
    "The data export feature in Zero can be found in the **My Data** section in the **me** page settings. To export your own data:\n",
    "- Me (lower right) -> Settings (upper right) -> My Data -> Export Data\n",
    "\n",
    "### Loading the Data\n",
    "First we'll load the raw data export into a Pandas DataFrame to better understand _why_ we need to use the **fasting** library."
   ]
  },
  {
   "cell_type": "code",
   "execution_count": 2,
   "metadata": {},
   "outputs": [],
   "source": [
    "export = \"https://raw.githubusercontent.com/jbpauly/fasting/main/docs/tutorials/zero_export.csv\""
   ]
  },
  {
   "cell_type": "code",
   "execution_count": 3,
   "metadata": {},
   "outputs": [
    {
     "data": {
      "text/html": [
       "<div>\n",
       "<style scoped>\n",
       "    .dataframe tbody tr th:only-of-type {\n",
       "        vertical-align: middle;\n",
       "    }\n",
       "\n",
       "    .dataframe tbody tr th {\n",
       "        vertical-align: top;\n",
       "    }\n",
       "\n",
       "    .dataframe thead th {\n",
       "        text-align: right;\n",
       "    }\n",
       "</style>\n",
       "<table border=\"1\" class=\"dataframe\">\n",
       "  <thead>\n",
       "    <tr style=\"text-align: right;\">\n",
       "      <th></th>\n",
       "      <th>Date</th>\n",
       "      <th>Start</th>\n",
       "      <th>End</th>\n",
       "      <th>Hours</th>\n",
       "      <th>Night Eating</th>\n",
       "    </tr>\n",
       "  </thead>\n",
       "  <tbody>\n",
       "    <tr>\n",
       "      <th>24</th>\n",
       "      <td>1/18/21</td>\n",
       "      <td>19:14</td>\n",
       "      <td>11:44</td>\n",
       "      <td>16</td>\n",
       "      <td>1</td>\n",
       "    </tr>\n",
       "    <tr>\n",
       "      <th>25</th>\n",
       "      <td>1/17/21</td>\n",
       "      <td>19:15</td>\n",
       "      <td>12:00</td>\n",
       "      <td>16</td>\n",
       "      <td>1</td>\n",
       "    </tr>\n",
       "    <tr>\n",
       "      <th>26</th>\n",
       "      <td>1/16/21</td>\n",
       "      <td>19:45</td>\n",
       "      <td>10:14</td>\n",
       "      <td>14</td>\n",
       "      <td>2</td>\n",
       "    </tr>\n",
       "    <tr>\n",
       "      <th>27</th>\n",
       "      <td>1/15/21</td>\n",
       "      <td>21:00</td>\n",
       "      <td>10:00</td>\n",
       "      <td>13</td>\n",
       "      <td>3</td>\n",
       "    </tr>\n",
       "    <tr>\n",
       "      <th>28</th>\n",
       "      <td>1/14/21</td>\n",
       "      <td>19:00</td>\n",
       "      <td>11:22</td>\n",
       "      <td>16</td>\n",
       "      <td>1</td>\n",
       "    </tr>\n",
       "  </tbody>\n",
       "</table>\n",
       "</div>"
      ],
      "text/plain": [
       "       Date  Start    End  Hours  Night Eating\n",
       "24  1/18/21  19:14  11:44     16             1\n",
       "25  1/17/21  19:15  12:00     16             1\n",
       "26  1/16/21  19:45  10:14     14             2\n",
       "27  1/15/21  21:00  10:00     13             3\n",
       "28  1/14/21  19:00  11:22     16             1"
      ]
     },
     "execution_count": 3,
     "metadata": {},
     "output_type": "execute_result"
    }
   ],
   "source": [
    "zero_export = pd.read_csv(export)\n",
    "\n",
    "zero_export[-5:]"
   ]
  },
  {
   "cell_type": "markdown",
   "metadata": {},
   "source": [
    "Here we can see the raw data export provides sufficient data around each fast a user participated in through the **Zero** app. \n",
    "\n",
    "- **Date**: Start date of the fast\n",
    "- **Start**: Start time of the fast\n",
    "- **End**: End time of the fast\n",
    "- **Hours**: Duration of the fast rounded to the nearest hour\n",
    "- **Night Eating**: Duration of time between sunset and fast start in hours\n",
    "\n",
    "Alone, **hours** and **night eating** are usable metrics, but there's much more to gather out of our dataset. To do so, we'll simplify the logs to a **start datetime** and **end datetime** for each fast by combining **date**, **start**, **end**, **hours**.\n",
    "\n",
    "## Discrete Logs: Start and End Datetime\n",
    "To create the discrete logs, lets read in the data using the **zero_fasts** function in the **quantify** module."
   ]
  },
  {
   "cell_type": "code",
   "execution_count": 4,
   "metadata": {},
   "outputs": [
    {
     "data": {
      "text/html": [
       "<div>\n",
       "<style scoped>\n",
       "    .dataframe tbody tr th:only-of-type {\n",
       "        vertical-align: middle;\n",
       "    }\n",
       "\n",
       "    .dataframe tbody tr th {\n",
       "        vertical-align: top;\n",
       "    }\n",
       "\n",
       "    .dataframe thead th {\n",
       "        text-align: right;\n",
       "    }\n",
       "</style>\n",
       "<table border=\"1\" class=\"dataframe\">\n",
       "  <thead>\n",
       "    <tr style=\"text-align: right;\">\n",
       "      <th></th>\n",
       "      <th>start_dt</th>\n",
       "      <th>end_dt</th>\n",
       "    </tr>\n",
       "  </thead>\n",
       "  <tbody>\n",
       "    <tr>\n",
       "      <th>0</th>\n",
       "      <td>2021-01-14 19:00:00</td>\n",
       "      <td>2021-01-15 11:22:00</td>\n",
       "    </tr>\n",
       "    <tr>\n",
       "      <th>1</th>\n",
       "      <td>2021-01-15 21:00:00</td>\n",
       "      <td>2021-01-16 10:00:00</td>\n",
       "    </tr>\n",
       "    <tr>\n",
       "      <th>2</th>\n",
       "      <td>2021-01-16 19:45:00</td>\n",
       "      <td>2021-01-17 10:14:00</td>\n",
       "    </tr>\n",
       "    <tr>\n",
       "      <th>3</th>\n",
       "      <td>2021-01-17 19:15:00</td>\n",
       "      <td>2021-01-18 12:00:00</td>\n",
       "    </tr>\n",
       "    <tr>\n",
       "      <th>4</th>\n",
       "      <td>2021-01-18 19:14:00</td>\n",
       "      <td>2021-01-19 11:44:00</td>\n",
       "    </tr>\n",
       "  </tbody>\n",
       "</table>\n",
       "</div>"
      ],
      "text/plain": [
       "             start_dt              end_dt\n",
       "0 2021-01-14 19:00:00 2021-01-15 11:22:00\n",
       "1 2021-01-15 21:00:00 2021-01-16 10:00:00\n",
       "2 2021-01-16 19:45:00 2021-01-17 10:14:00\n",
       "3 2021-01-17 19:15:00 2021-01-18 12:00:00\n",
       "4 2021-01-18 19:14:00 2021-01-19 11:44:00"
      ]
     },
     "execution_count": 4,
     "metadata": {},
     "output_type": "execute_result"
    }
   ],
   "source": [
    "fasts_discrete = quantify.zero_fasts(export)\n",
    "\n",
    "fasts_discrete[:5]"
   ]
  },
  {
   "cell_type": "markdown",
   "metadata": {},
   "source": [
    "We now have a start and end datetime (start_dt, end_dt) to work with for each fast. Additionally, the fasts are reindexed from oldest to newest, and any incomplete or ongoing fasts have been dropped.\n",
    "\n",
    "### Why start and end datetime?\n",
    "Because fasting is primarily a time based protocol, it's important to get our data into a datetime format. From here we can take it one step further from discrete logs with start and end datetimes to a continuous time series log. Time series data can be tricky to handle. To overcome many challenges working with time based data, it's useful to work with it _as a time series_. \n",
    "\n",
    "## Continuous Log: Time Series of Fasting Status (not fasting/fasting)\n",
    "Lets now convert the the discrete logs to a single continuous log using the **continuous_fasts** function in the **quantify** module. This function reads in the discrete fasts as a Pandas DataFrame and returns a binary Pandas Series:\n",
    "- 0: Not fasting\n",
    "- 1: Fasting\n",
    "\n",
    "The series duration spans from the **start_dt** of the first fast in the discrete fasts log to the **end_dt** of the last fast in the discrete fasts log and has a sample rate of one minute."
   ]
  },
  {
   "cell_type": "code",
   "execution_count": 5,
   "metadata": {},
   "outputs": [
    {
     "data": {
      "text/plain": [
       "2021-01-14 19:00:00    1\n",
       "2021-01-14 19:01:00    1\n",
       "2021-01-14 19:02:00    1\n",
       "2021-01-14 19:03:00    1\n",
       "2021-01-14 19:04:00    1\n",
       "Freq: T, dtype: int64"
      ]
     },
     "execution_count": 5,
     "metadata": {},
     "output_type": "execute_result"
    }
   ],
   "source": [
    "fasts_continuous = quantify.continuous_fasts(fasts_discrete)\n",
    "\n",
    "fasts_continuous[:5]"
   ]
  },
  {
   "cell_type": "markdown",
   "metadata": {},
   "source": [
    "It's now less useful to tabularize the data. Instead, we can visualize it."
   ]
  },
  {
   "cell_type": "code",
   "execution_count": 6,
   "metadata": {},
   "outputs": [
    {
     "data": {
      "image/png": "[encoded data removed]",
      "text/plain": [
       "<Figure size 864x432 with 1 Axes>"
      ]
     },
     "metadata": {
      "needs_background": "light"
     },
     "output_type": "display_data"
    }
   ],
   "source": [
    "fig, ax = plt.subplots(figsize=(12,6))\n",
    "ax.plot(fasts_continuous)\n",
    "fig.autofmt_xdate()\n",
    "plt.title('Binary Fasting Log: 0 (Not Fasting), 1 (Fasting)')\n",
    "plt.xlabel('Date')\n",
    "plt.ylabel('Fasting Status')\n",
    "ax.set_yticks([0,1])\n",
    "plt.show()"
   ]
  },
  {
   "cell_type": "markdown",
   "metadata": {},
   "source": [
    "### Why a continuous time series?\n",
    "Pandas and other Python libraries support a vast array of time series functionality. To utilize these libraries, we often need our data as a series to perform aggregations, windowing functions, etc.\n",
    "\n",
    "For data storage, it may be best to write discrete logs to a database instead of a continuous log. Two data points (start and end datetime) is much less than the thousands of points in a single fast continuous log. \n",
    "\n",
    "## Fasting Metrics \n",
    "With the continuous log, we can now calculate various metrics of interest around our fasts.\n",
    "\n",
    "### Continuous Metrics\n",
    "There may be some instances where it's useful to stay in the continuous space, like calculating the cumulative sum (consecutive) minutes of each fast."
   ]
  },
  {
   "cell_type": "code",
   "execution_count": 7,
   "metadata": {},
   "outputs": [
    {
     "data": {
      "text/plain": [
       "2021-01-14 19:00:00    1\n",
       "2021-01-14 19:01:00    2\n",
       "2021-01-14 19:02:00    3\n",
       "2021-01-14 19:03:00    4\n",
       "2021-01-14 19:04:00    5\n",
       "Freq: T, dtype: int64"
      ]
     },
     "execution_count": 7,
     "metadata": {},
     "output_type": "execute_result"
    }
   ],
   "source": [
    "consecutive_minutes = quantify.consecutive_minutes(fasts_continuous)\n",
    "\n",
    "consecutive_minutes[:5]"
   ]
  },
  {
   "cell_type": "code",
   "execution_count": 8,
   "metadata": {},
   "outputs": [
    {
     "data": {
      "image/png": "[encoded data removed]",
      "text/plain": [
       "<Figure size 864x432 with 1 Axes>"
      ]
     },
     "metadata": {
      "needs_background": "light"
     },
     "output_type": "display_data"
    }
   ],
   "source": [
    "fig, ax = plt.subplots(figsize=(12,6))\n",
    "ax.plot(consecutive_minutes)\n",
    "fig.autofmt_xdate()\n",
    "plt.title('Running Consecutive Minutes of Fasting')\n",
    "plt.xlabel('Date')\n",
    "plt.ylabel('Minutes')\n",
    "plt.show()"
   ]
  },
  {
   "cell_type": "markdown",
   "metadata": {},
   "source": [
    "With the consecutive minutes, you could label each time step with the associated fasting zone*:\n",
    "- **Anabolic** (0-4 hours)\n",
    "- **Catabolic** (4-16 hours)\n",
    "- **Fat Burning** (16-24 hours)\n",
    "- **Ketosis** (24-72 hours)\n",
    "- **Deep Ketosis** (72+ hours)\n",
    "\n",
    "*Note: this can be provided as a function in future versions of the package.\n",
    "\n",
    "![](https://www.zerofasting.com/wp-content/uploads/2019/08/1_NcXg95jV94rWENSAcdPEmg.jpg)\n",
    "Unique physiologic effects occur within each fasting zone. You can learn more about the physiology of fasting from Zero [here](https://www.zerofasting.com/the-physiology-of-fasting/).\n",
    "\n",
    "### Discrete Metrics\n",
    "Often times, biometrics are rolled up to discrete metrics at a specified frequency (i.e. daily). Since fasts can span across multiple days and multiple fasts can occur in a single day, we have to be careful how we roll up our discrete metrics. The image below helps explain calculations like **cumulative hours** and **maximum consecutive hours** fasted."
   ]
  },
  {
   "cell_type": "markdown",
   "metadata": {},
   "source": [
    "![Link](https://raw.githubusercontent.com/jbpauly/glucose-sleep-analysis/main/src/content/data/fast_breakdown.jpg)"
   ]
  },
  {
   "cell_type": "markdown",
   "metadata": {},
   "source": [
    "This diagram also reiterates the importance of working with time data as a time series. Even though we are calculating discrete metrics, it's easier to go from a higher data space (continuous log) down to a lower data space (daily metrics)."
   ]
  },
  {
   "cell_type": "markdown",
   "metadata": {},
   "source": [
    "#### Cumulative Hours\n",
    "Simply the cumulative hours fasting each day. Since the continuous log is a binary series of 0's and 1's, we can sum the series at a daily frequency."
   ]
  },
  {
   "cell_type": "code",
   "execution_count": 9,
   "metadata": {},
   "outputs": [
    {
     "data": {
      "text/plain": [
       "2021-01-14     5.000000\n",
       "2021-01-15    14.383333\n",
       "2021-01-16    14.266667\n",
       "2021-01-17    15.000000\n",
       "2021-01-18    16.783333\n",
       "Freq: D, dtype: float64"
      ]
     },
     "execution_count": 9,
     "metadata": {},
     "output_type": "execute_result"
    }
   ],
   "source": [
    "cumulative_hours = quantify.daily_cumulative_hours(fasts_continuous)\n",
    "\n",
    "cumulative_hours[:5]"
   ]
  },
  {
   "cell_type": "code",
   "execution_count": 10,
   "metadata": {},
   "outputs": [
    {
     "data": {
      "image/png": "[encoded data removed]",
      "text/plain": [
       "<Figure size 864x432 with 1 Axes>"
      ]
     },
     "metadata": {
      "needs_background": "light"
     },
     "output_type": "display_data"
    }
   ],
   "source": [
    "fig, ax = plt.subplots(figsize=(12,6))\n",
    "ax.bar(cumulative_hours.index, cumulative_hours.values)\n",
    "fig.autofmt_xdate()\n",
    "plt.title('Cumulative Hours of Fasting per Day')\n",
    "plt.xlabel('Date')\n",
    "plt.ylabel('Hours')\n",
    "plt.show()"
   ]
  },
  {
   "cell_type": "markdown",
   "metadata": {},
   "source": [
    "#### Maximum Consecutive Hours\n",
    "You may participate in multiple fasts each day. Maybe you complete one fast at 12PM with lunch and start your next fast at 7PM after dinner. The **maximum consecutive hours** is the maximum consecutive hours fasted within each day. It can included hours rolled over from the previous day(s)."
   ]
  },
  {
   "cell_type": "code",
   "execution_count": 11,
   "metadata": {},
   "outputs": [
    {
     "data": {
      "text/plain": [
       "2021-01-14     5.000000\n",
       "2021-01-15    16.383333\n",
       "2021-01-16    13.016667\n",
       "2021-01-17    14.500000\n",
       "2021-01-18    16.766667\n",
       "Freq: D, dtype: float64"
      ]
     },
     "execution_count": 11,
     "metadata": {},
     "output_type": "execute_result"
    }
   ],
   "source": [
    "max_consecutive_hours = quantify.daily_max_consecutive_hours(fasts_continuous)\n",
    "\n",
    "max_consecutive_hours[:5]"
   ]
  },
  {
   "cell_type": "code",
   "execution_count": 12,
   "metadata": {},
   "outputs": [
    {
     "data": {
      "image/png": "[encoded data removed]",
      "text/plain": [
       "<Figure size 864x432 with 1 Axes>"
      ]
     },
     "metadata": {
      "needs_background": "light"
     },
     "output_type": "display_data"
    }
   ],
   "source": [
    "fig, ax = plt.subplots(figsize=(12,6))\n",
    "ax.bar(max_consecutive_hours.index, max_consecutive_hours.values)\n",
    "fig.autofmt_xdate()\n",
    "plt.title('Maximum Consecutive Hours of Fasting per Day')\n",
    "plt.xlabel('Date')\n",
    "plt.ylabel('Hours')\n",
    "plt.show()"
   ]
  },
  {
   "cell_type": "markdown",
   "metadata": {},
   "source": [
    "## Summary\n",
    "That's it! We've loaded a data export from Zero and explored some of the metrics we can calculate with the **fasting** package. How can you use your data along with other tracked biometrics? Check out this [app](https://share.streamlit.io/jbpauly/glucose-sleep-analysis/main/src/app.py) and explore of the relationship be lifestyle and metabolic health."
   ]
  },
  {
   "cell_type": "code",
   "execution_count": null,
   "metadata": {},
   "outputs": [],
   "source": []
  }
 ],
 "metadata": {
  "kernelspec": {
   "display_name": "Python 3",
   "language": "python",
   "name": "python3"
  },
  "language_info": {
   "codemirror_mode": {
    "name": "ipython",
    "version": 3
   },
   "file_extension": ".py",
   "mimetype": "text/x-python",
   "name": "python",
   "nbconvert_exporter": "python",
   "pygments_lexer": "ipython3",
   "version": "3.7.6"
  }
 },
 "nbformat": 4,
 "nbformat_minor": 4
}
